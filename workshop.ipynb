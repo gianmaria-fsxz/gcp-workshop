{
 "cells": [
  {
   "cell_type": "code",
   "execution_count": 119,
   "id": "d3b0e594-2c45-4df3-ae3d-014138615bfd",
   "metadata": {},
   "outputs": [],
   "source": [
    "PROJECT_ID = !(gcloud config get-value core/project)\n",
    "PROJECT_ID = PROJECT_ID[0]\n",
    "DATASET_ID = 'gcp_workshop'\n",
    "bucket_name = 'gcp-workshop-input'\n",
    "REGION = 'europe-west4'"
   ]
  },
  {
   "cell_type": "raw",
   "id": "ee02e202-eea5-4587-8af1-b24755f3e9b0",
   "metadata": {},
   "source": [
    "# Construct a BigQuery client object.\n",
    "client = bigquery.Client(project= PROJECT_ID)\n",
    "\n",
    "# TODO(developer): Set model_id to the ID of the model to fetch.\n",
    "# dataset_id = 'your-project.your_dataset'\n",
    "\n",
    "# Use the delete_contents parameter to delete a dataset and its contents.\n",
    "# Use the not_found_ok parameter to not receive an error if the dataset has already been deleted.\n",
    "client.delete_dataset(\n",
    "    DATASET_ID, delete_contents=True, not_found_ok=True\n",
    ")  # Make an API request.\n",
    "\n",
    "print(\"Deleted dataset '{}'.\".format(dataset_id))"
   ]
  },
  {
   "cell_type": "markdown",
   "id": "c2843c13-db38-499e-bee2-7b30f3957374",
   "metadata": {},
   "source": [
    "### load data in GCS bucket"
   ]
  },
  {
   "cell_type": "markdown",
   "id": "0800c759-b805-4385-b34d-42b999fd1c48",
   "metadata": {
    "tags": []
   },
   "source": [
    "### list file in input bucket"
   ]
  },
  {
   "cell_type": "code",
   "execution_count": 41,
   "id": "1c18fbfd-4230-4aa5-9e4a-158c8867421e",
   "metadata": {},
   "outputs": [
    {
     "name": "stdout",
     "output_type": "stream",
     "text": [
      "auto_clean_train.csv\n",
      "test_auto.csv\n",
      "train_auto.csv\n"
     ]
    }
   ],
   "source": [
    "from google.cloud import storage\n",
    "\n",
    "storage_client = storage.Client()\n",
    "\n",
    "bucket_name = 'gcp-workshop-input'\n",
    "blobs = storage_client.list_blobs(bucket_name)\n",
    "\n",
    "# Note: The call returns a response only when the iterator is consumed.\n",
    "for blob in blobs:\n",
    "    print(blob.name)"
   ]
  },
  {
   "cell_type": "markdown",
   "id": "15f0e584-b7b1-4718-a173-48cbeaad74fb",
   "metadata": {},
   "source": [
    "### Read with pandas"
   ]
  },
  {
   "cell_type": "code",
   "execution_count": 26,
   "id": "46e385fd-b21f-49d4-822c-ed8fc957acb2",
   "metadata": {},
   "outputs": [],
   "source": [
    "#read data from GCS\n",
    "import pandas as pd\n",
    "df_train = pd.read_csv(\"gs://gcp-workshop-input/train_auto.csv\")\n",
    "df_test = pd.read_csv(\"gs://gcp-workshop-input/train_auto.csv\")"
   ]
  },
  {
   "cell_type": "markdown",
   "id": "0dd878a9-e335-41e3-887d-fe888ccf6431",
   "metadata": {},
   "source": [
    "### bQ client"
   ]
  },
  {
   "cell_type": "code",
   "execution_count": 9,
   "id": "7b58f598-3d78-45a0-8462-5c69f7d465c8",
   "metadata": {},
   "outputs": [],
   "source": [
    "from google.cloud import bigquery\n",
    "# Construct a BigQuery client object.\n",
    "client = bigquery.Client(project= PROJECT_ID)"
   ]
  },
  {
   "cell_type": "markdown",
   "id": "49ccc5f9-54a4-466a-a890-8eb1f8c4f002",
   "metadata": {},
   "source": [
    "### DATASET CREATION"
   ]
  },
  {
   "cell_type": "code",
   "execution_count": 49,
   "id": "ffaa697f-ace8-48e1-aac4-208b5ab6b9b4",
   "metadata": {},
   "outputs": [
    {
     "name": "stdout",
     "output_type": "stream",
     "text": [
      "Created dataset sandbox-mvp-001.gcp_workshop\n"
     ]
    }
   ],
   "source": [
    "#dataset is the bq database, inside that, we will find the single table\n",
    "# Construct a full Dataset object to send to the API.\n",
    "\n",
    "dataset = bigquery.Dataset(f\"{PROJECT_ID}.{DATASET_ID}\")\n",
    "dataset.location = \"EU\"\n",
    "\n",
    "# Send the dataset to the API for creation, with an explicit timeout.\n",
    "# Raises google.api_core.exceptions.Conflict if the Dataset already\n",
    "# exists within the project.\n",
    "dataset = client.create_dataset(dataset = dataset, timeout=30)  # Make an API request.\n",
    "print(\"Created dataset {}.{}\".format(client.project, dataset.dataset_id))"
   ]
  },
  {
   "cell_type": "markdown",
   "id": "a6ee7f79-800f-402c-b452-1d78ff30bdd5",
   "metadata": {},
   "source": [
    "### LOAD DATA FROM GCS TO BQ"
   ]
  },
  {
   "cell_type": "code",
   "execution_count": 50,
   "id": "170afed3-5492-4c2e-8235-54342e9fba4e",
   "metadata": {},
   "outputs": [
    {
     "name": "stdout",
     "output_type": "stream",
     "text": [
      "Loaded 8161 rows.\n"
     ]
    }
   ],
   "source": [
    "TABLE_ID = 'train'\n",
    "table_id = f\"{client.project}.{dataset.dataset_id}.{TABLE_ID}\"\n",
    "\n",
    "job_config = bigquery.LoadJobConfig(autodetect=True,\n",
    "                                    skip_leading_rows=1,\n",
    "                                    source_format=bigquery.SourceFormat.CSV,\n",
    "                                   )\n",
    "\n",
    "file_name = \"train_auto.csv\"\n",
    "uri = f\"gs://{bucket_name}/{file_name}\"\n",
    "\n",
    "load_job = client.load_table_from_uri(\n",
    "    uri, table_id, job_config=job_config\n",
    ")  # Make an API request.\n",
    "\n",
    "load_job.result()  # Waits for the job to complete.\n",
    "\n",
    "destination_table = client.get_table(table_id)  # Make an API request.\n",
    "print(\"Loaded {} rows.\".format(destination_table.num_rows))"
   ]
  },
  {
   "cell_type": "markdown",
   "id": "1f236201-26a6-4aff-88ba-2125eb20d75e",
   "metadata": {},
   "source": [
    "### Access data from BQ"
   ]
  },
  {
   "cell_type": "code",
   "execution_count": 174,
   "id": "e899a36a-8c91-4996-b9fc-4d2131caac57",
   "metadata": {},
   "outputs": [],
   "source": [
    "PROJECT_ID, DATASET_ID, TABLE_ID = 'sandbox-mvp-001', 'gcp_workshop', 'train' "
   ]
  },
  {
   "cell_type": "code",
   "execution_count": 175,
   "id": "e5f361b9-0fdf-42bb-b4f6-0329a9c94a2c",
   "metadata": {},
   "outputs": [
    {
     "name": "stdout",
     "output_type": "stream",
     "text": [
      "sandbox-mvp-001 gcp_workshop train\n"
     ]
    }
   ],
   "source": [
    "print(PROJECT_ID, DATASET_ID, TABLE_ID)"
   ]
  },
  {
   "cell_type": "code",
   "execution_count": 176,
   "id": "a89f0f5a-873a-4a08-a152-69b61fe931ad",
   "metadata": {},
   "outputs": [],
   "source": [
    "from google.cloud import bigquery\n",
    "# Construct a BigQuery client object.\n",
    "client = bigquery.Client(project= PROJECT_ID)"
   ]
  },
  {
   "cell_type": "code",
   "execution_count": 177,
   "id": "4190548d-3ef7-40cc-ace1-426b4d17bcdb",
   "metadata": {},
   "outputs": [],
   "source": [
    "read_query = f\"SELECT * FROM {PROJECT_ID}.{DATASET_ID}.{TABLE_ID}\"\n",
    "df = client.query(read_query).to_dataframe()"
   ]
  },
  {
   "cell_type": "code",
   "execution_count": 178,
   "id": "02982d59-e273-4f71-9ce4-b7864e8b42f2",
   "metadata": {},
   "outputs": [
    {
     "data": {
      "text/html": [
       "<div>\n",
       "<style scoped>\n",
       "    .dataframe tbody tr th:only-of-type {\n",
       "        vertical-align: middle;\n",
       "    }\n",
       "\n",
       "    .dataframe tbody tr th {\n",
       "        vertical-align: top;\n",
       "    }\n",
       "\n",
       "    .dataframe thead th {\n",
       "        text-align: right;\n",
       "    }\n",
       "</style>\n",
       "<table border=\"1\" class=\"dataframe\">\n",
       "  <thead>\n",
       "    <tr style=\"text-align: right;\">\n",
       "      <th></th>\n",
       "      <th>INDEX</th>\n",
       "      <th>TARGET_FLAG</th>\n",
       "      <th>TARGET_AMT</th>\n",
       "      <th>KIDSDRIV</th>\n",
       "      <th>AGE</th>\n",
       "      <th>HOMEKIDS</th>\n",
       "      <th>YOJ</th>\n",
       "      <th>INCOME</th>\n",
       "      <th>PARENT1</th>\n",
       "      <th>HOME_VAL</th>\n",
       "      <th>...</th>\n",
       "      <th>BLUEBOOK</th>\n",
       "      <th>TIF</th>\n",
       "      <th>CAR_TYPE</th>\n",
       "      <th>RED_CAR</th>\n",
       "      <th>OLDCLAIM</th>\n",
       "      <th>CLM_FREQ</th>\n",
       "      <th>REVOKED</th>\n",
       "      <th>MVR_PTS</th>\n",
       "      <th>CAR_AGE</th>\n",
       "      <th>URBANICITY</th>\n",
       "    </tr>\n",
       "  </thead>\n",
       "  <tbody>\n",
       "    <tr>\n",
       "      <th>0</th>\n",
       "      <td>46</td>\n",
       "      <td>0</td>\n",
       "      <td>0.0</td>\n",
       "      <td>0</td>\n",
       "      <td>43</td>\n",
       "      <td>2</td>\n",
       "      <td>17</td>\n",
       "      <td>145353</td>\n",
       "      <td>False</td>\n",
       "      <td>418785</td>\n",
       "      <td>...</td>\n",
       "      <td>29450</td>\n",
       "      <td>6</td>\n",
       "      <td>Van</td>\n",
       "      <td>False</td>\n",
       "      <td>0</td>\n",
       "      <td>0</td>\n",
       "      <td>False</td>\n",
       "      <td>0</td>\n",
       "      <td>15</td>\n",
       "      <td>Highly Urban/ Urban</td>\n",
       "    </tr>\n",
       "    <tr>\n",
       "      <th>1</th>\n",
       "      <td>155</td>\n",
       "      <td>0</td>\n",
       "      <td>0.0</td>\n",
       "      <td>0</td>\n",
       "      <td>33</td>\n",
       "      <td>1</td>\n",
       "      <td>12</td>\n",
       "      <td>111427</td>\n",
       "      <td>False</td>\n",
       "      <td>321483</td>\n",
       "      <td>...</td>\n",
       "      <td>28180</td>\n",
       "      <td>1</td>\n",
       "      <td>Van</td>\n",
       "      <td>False</td>\n",
       "      <td>0</td>\n",
       "      <td>0</td>\n",
       "      <td>False</td>\n",
       "      <td>3</td>\n",
       "      <td>4</td>\n",
       "      <td>Highly Urban/ Urban</td>\n",
       "    </tr>\n",
       "    <tr>\n",
       "      <th>2</th>\n",
       "      <td>430</td>\n",
       "      <td>1</td>\n",
       "      <td>1444.0</td>\n",
       "      <td>0</td>\n",
       "      <td>32</td>\n",
       "      <td>1</td>\n",
       "      <td>12</td>\n",
       "      <td>76985</td>\n",
       "      <td>True</td>\n",
       "      <td>0</td>\n",
       "      <td>...</td>\n",
       "      <td>19500</td>\n",
       "      <td>7</td>\n",
       "      <td>Van</td>\n",
       "      <td>True</td>\n",
       "      <td>6762</td>\n",
       "      <td>1</td>\n",
       "      <td>False</td>\n",
       "      <td>4</td>\n",
       "      <td>15</td>\n",
       "      <td>Highly Urban/ Urban</td>\n",
       "    </tr>\n",
       "    <tr>\n",
       "      <th>3</th>\n",
       "      <td>474</td>\n",
       "      <td>0</td>\n",
       "      <td>0.0</td>\n",
       "      <td>0</td>\n",
       "      <td>45</td>\n",
       "      <td>1</td>\n",
       "      <td>8</td>\n",
       "      <td>45105</td>\n",
       "      <td>False</td>\n",
       "      <td>181896</td>\n",
       "      <td>...</td>\n",
       "      <td>17540</td>\n",
       "      <td>14</td>\n",
       "      <td>Van</td>\n",
       "      <td>True</td>\n",
       "      <td>36562</td>\n",
       "      <td>3</td>\n",
       "      <td>True</td>\n",
       "      <td>4</td>\n",
       "      <td>9</td>\n",
       "      <td>Highly Urban/ Urban</td>\n",
       "    </tr>\n",
       "    <tr>\n",
       "      <th>4</th>\n",
       "      <td>637</td>\n",
       "      <td>0</td>\n",
       "      <td>0.0</td>\n",
       "      <td>1</td>\n",
       "      <td>42</td>\n",
       "      <td>3</td>\n",
       "      <td>13</td>\n",
       "      <td>58797</td>\n",
       "      <td>True</td>\n",
       "      <td>0</td>\n",
       "      <td>...</td>\n",
       "      <td>19980</td>\n",
       "      <td>4</td>\n",
       "      <td>Van</td>\n",
       "      <td>True</td>\n",
       "      <td>1310</td>\n",
       "      <td>2</td>\n",
       "      <td>False</td>\n",
       "      <td>4</td>\n",
       "      <td>23</td>\n",
       "      <td>Highly Urban/ Urban</td>\n",
       "    </tr>\n",
       "  </tbody>\n",
       "</table>\n",
       "<p>5 rows × 26 columns</p>\n",
       "</div>"
      ],
      "text/plain": [
       "   INDEX  TARGET_FLAG  TARGET_AMT  KIDSDRIV  AGE  HOMEKIDS  YOJ  INCOME  \\\n",
       "0     46            0         0.0         0   43         2   17  145353   \n",
       "1    155            0         0.0         0   33         1   12  111427   \n",
       "2    430            1      1444.0         0   32         1   12   76985   \n",
       "3    474            0         0.0         0   45         1    8   45105   \n",
       "4    637            0         0.0         1   42         3   13   58797   \n",
       "\n",
       "   PARENT1  HOME_VAL  ... BLUEBOOK TIF CAR_TYPE RED_CAR  OLDCLAIM CLM_FREQ  \\\n",
       "0    False    418785  ...    29450   6      Van   False         0        0   \n",
       "1    False    321483  ...    28180   1      Van   False         0        0   \n",
       "2     True         0  ...    19500   7      Van    True      6762        1   \n",
       "3    False    181896  ...    17540  14      Van    True     36562        3   \n",
       "4     True         0  ...    19980   4      Van    True      1310        2   \n",
       "\n",
       "   REVOKED  MVR_PTS CAR_AGE           URBANICITY  \n",
       "0    False        0      15  Highly Urban/ Urban  \n",
       "1    False        3       4  Highly Urban/ Urban  \n",
       "2    False        4      15  Highly Urban/ Urban  \n",
       "3     True        4       9  Highly Urban/ Urban  \n",
       "4    False        4      23  Highly Urban/ Urban  \n",
       "\n",
       "[5 rows x 26 columns]"
      ]
     },
     "execution_count": 178,
     "metadata": {},
     "output_type": "execute_result"
    }
   ],
   "source": [
    "df.head()"
   ]
  },
  {
   "cell_type": "markdown",
   "id": "34da8370-a5a7-4e44-976a-93cbe1b79488",
   "metadata": {},
   "source": [
    "### Preprocess data"
   ]
  },
  {
   "cell_type": "code",
   "execution_count": 4,
   "id": "a4e662b7-7860-4ea1-b86b-f31240bd2c25",
   "metadata": {
    "jupyter": {
     "source_hidden": true
    },
    "tags": []
   },
   "outputs": [],
   "source": [
    "import pandas as pd\n",
    "from sklearn.preprocessing import StandardScaler\n",
    "\n",
    "# This object performs several preprocessing of the data set\n",
    "\n",
    "class Preprocessor: \n",
    "\n",
    "    def __init__(self, df):\n",
    "        Preprocessor.data = df.copy()\n",
    "        Preprocessor.processed_data = None\n",
    "\n",
    "    def dropVar(self, vars):\n",
    "        # Remove a variable from the dataset\n",
    "        self.processed_data = self.data.drop(vars, axis=1)\n",
    "\n",
    "    def str2int(self, variables):\n",
    "        # Define a function that extract the numerical value from a string like '$200' and convert it to a float\n",
    "        newdf = self.processed_data.copy()\n",
    "        for var in variables:\n",
    "            if newdf[var].dtypes == 'object': \n",
    "                # if it was a string, convert variable to float \n",
    "                newdf[var] = newdf[var].apply(lambda x: float(x.split(\"$\")[1].replace(\",\",\"\")) if type(x) == str else x)\n",
    "            else: \n",
    "                pass\n",
    "        self.processed_data = newdf\n",
    "\n",
    "\n",
    "    def fillMissing(self):  \n",
    "        # fill NaN with mean and mode\n",
    "        df = self.processed_data.copy()\n",
    "        vars = df.columns\n",
    "        for var in vars: \n",
    "            if any(df[var].isna()):\n",
    "                if df[var].dtypes == 'float64':\n",
    "                    # substitute NaN with mean\n",
    "                    df[var].fillna(value=df[var].mean(), \n",
    "                                        inplace=True)\n",
    "                else:\n",
    "                    # substitute NaN with mode\n",
    "                    df[var].fillna(value=df[var].mode()[0], \n",
    "                                        inplace=True)\n",
    "        self.processed_data = df\n",
    "                    \n",
    "    def scaling(self, catVars, target):\n",
    "        # setup scaler\n",
    "        scaler = StandardScaler()\n",
    "        df = self.processed_data.copy()\n",
    "\n",
    "        scaleCols = list(set(df.columns)-set(catVars+[target]))\n",
    "        # remove both target variables because in the test data they are not provided\n",
    "        # training set scaling\n",
    "        df[scaleCols] = scaler.fit_transform(df[scaleCols])        # re-add categorical variables\n",
    "        # df = df.join(df[catVars])\n",
    "        self.processed_data = df\n",
    "\n",
    "    def cat2int(self, variables):\n",
    "        # Convert categorical variables to numerical\n",
    "        # Create a copy of the original dataframe to avoid warnings\n",
    "        df = self.processed_data.copy()\n",
    "        firstidx = df.index[0]\n",
    "        for var in variables:\n",
    "            if type(df[var][firstidx]) == str:\n",
    "                df[var] = df[var].apply(lambda x: 1 if 'yes' in x.lower() else 0)\n",
    "                c = 1\n",
    "            else:\n",
    "                # if we run the code again it will\n",
    "                pass\n",
    "        self.processed_data = df\n",
    "    \n",
    "    \n",
    "    def convertCategorical(self):\n",
    "        catVar = ['PARENT1', 'MSTATUS', 'RED_CAR', 'REVOKED']  \n",
    "        # Convert categorical to dummies\n",
    "        self.cat2int(catVar)\n",
    "        \n",
    "        df = self.processed_data.copy()\n",
    "        # Convert binary to dummies\n",
    "        # converting SEX\n",
    "        df['GENDER'] = df['SEX'].apply(lambda x: 1 if 'M' in x else 0)\n",
    "        df.drop(['SEX'],axis=1,inplace=True)\n",
    "\n",
    "        # converting CAR_USE, URBANICITY\n",
    "        df['COMMERCIAL_CAR_USE'] = df['CAR_USE'].apply(lambda x: 1 if 'commercial' in x.lower() else 0)\n",
    "        df.drop(['CAR_USE'],axis=1,inplace=True)\n",
    "\n",
    "        df['URBAN_CAR'] = df['URBANICITY'].apply(lambda x: 1 if 'urban' in x.lower() else 0)\n",
    "        df.drop(['URBANICITY'],axis=1,inplace=True)\n",
    "\n",
    "        # Convert EDUCATION, JOB, CAR_TYPE\n",
    "        df['EDUCATION'] = df['EDUCATION'].apply(lambda x: 'Elementary Education' if '<high school' in x.lower() else x)\n",
    "        # Insert dummy variables and Drop the original variable\n",
    "        df = df.join(pd.get_dummies(df.EDUCATION.str.upper())).drop(['EDUCATION'],axis=1)\n",
    "        df = df.join(pd.get_dummies(df.JOB.str.upper())).drop(['JOB'],axis=1)\n",
    "        df = df.join(pd.get_dummies(df.CAR_TYPE.str.upper())).drop(['CAR_TYPE'],axis=1)\n",
    "\n",
    "        df.columns = df.columns.str.replace(\"Z_\",\"\")\n",
    "        df.columns = df.columns.str.replace(\" \",\"_\")\n",
    "        \n",
    "        self.processed_data = df"
   ]
  },
  {
   "cell_type": "code",
   "execution_count": 19,
   "id": "2ae2d9ec-b5b9-41d3-93e3-a848fa288c55",
   "metadata": {
    "tags": []
   },
   "outputs": [],
   "source": [
    "def preprocessing(df,train=False):\n",
    "    print('\\n'+'*'*10 + 'Preprocessing' + '*'*10)\n",
    "    # define a Preprocessor object\n",
    "    preprocess = Preprocessor(df)\n",
    "\n",
    "    # Remove useless columns from the dataframes\n",
    "    toDrop = ['TARGET_AMT'] if train else ['TARGET_FLAG','TARGET_AMT']\n",
    "    toDrop += ['INDEX']\n",
    "    preprocess.dropVar(toDrop)\n",
    "    cat2numVars = [\"INCOME\",\"HOME_VAL\",\"BLUEBOOK\",\"OLDCLAIM\"]\n",
    "    preprocess.str2int(cat2numVars)\n",
    "    \n",
    "    # return preprocess.processed_data\n",
    "\n",
    "    catcols = ['PARENT1', 'MSTATUS', 'RED_CAR', 'REVOKED',\n",
    "                   'SEX','CAR_USE','URBANICITY','JOB','CAR_TYPE','EDUCATION']\n",
    "\n",
    "    preprocess.scaling(catcols,target='TARGET_FLAG')\n",
    "    preprocess.convertCategorical()\n",
    "    preprocess.fillMissing()\n",
    "\n",
    "\n",
    "    return preprocess.processed_data"
   ]
  },
  {
   "cell_type": "code",
   "execution_count": 18,
   "id": "b3691ae8-7c41-4456-9646-8f54e91b2d6c",
   "metadata": {},
   "outputs": [],
   "source": [
    "#read data from GCS\n",
    "import pandas as pd\n",
    "df_train = pd.read_csv(\"gs://gcp-workshop-input/train_auto.csv\")\n",
    "df_test = pd.read_csv(\"gs://gcp-workshop-input/test_auto.csv\")"
   ]
  },
  {
   "cell_type": "code",
   "execution_count": 20,
   "id": "f8718163-60d3-4f33-9164-12485e775778",
   "metadata": {},
   "outputs": [
    {
     "name": "stdout",
     "output_type": "stream",
     "text": [
      "\n",
      "**********Preprocessing**********\n",
      "\n",
      "**********Preprocessing**********\n"
     ]
    }
   ],
   "source": [
    "pretrain = preprocessing(df_train,True)\n",
    "pretest  = preprocessing(df_test,False)"
   ]
  },
  {
   "cell_type": "markdown",
   "id": "9662b2f6-c711-4c63-b889-8a600ab58e20",
   "metadata": {},
   "source": [
    "## we now save the preprocessed data to cloud storage"
   ]
  },
  {
   "cell_type": "code",
   "execution_count": 40,
   "id": "62d9b524-1947-4f56-b4e4-7a97beb3fb31",
   "metadata": {},
   "outputs": [],
   "source": [
    "pretrain.to_csv(f\"gs://{bucket_name}/auto_clean_train.csv\", index=False)"
   ]
  },
  {
   "cell_type": "markdown",
   "id": "a882986b-dabc-46a7-a8f3-765589220484",
   "metadata": {},
   "source": [
    "## and transfer that to bigquery"
   ]
  },
  {
   "cell_type": "code",
   "execution_count": 44,
   "id": "27ce5849-9912-4c7f-ac8a-43c8949ab221",
   "metadata": {},
   "outputs": [
    {
     "name": "stdout",
     "output_type": "stream",
     "text": [
      "Loaded 8161 rows.\n"
     ]
    }
   ],
   "source": [
    "TABLE_ID = 'train_clean'\n",
    "table_id = f\"{PROJECT_ID}.{DATASET_ID}.{TABLE_ID}\"\n",
    "\n",
    "job_config = bigquery.LoadJobConfig(autodetect=True,\n",
    "                                    skip_leading_rows=1,\n",
    "    # The source format defaults to CSV, so the line below is optional.\n",
    "                                    source_format=bigquery.SourceFormat.CSV,\n",
    "                                   )\n",
    "\n",
    "file_name = \"auto_clean_train.csv\"\n",
    "uri = f\"gs://{bucket_name}/{file_name}\"\n",
    "\n",
    "load_job = client.load_table_from_uri(\n",
    "    uri, table_id, job_config=job_config\n",
    ")  # Make an API request.\n",
    "\n",
    "load_job.result()  # Waits for the job to complete.\n",
    "\n",
    "destination_table = client.get_table(table_id)  # Make an API request.\n",
    "print(\"Loaded {} rows.\".format(destination_table.num_rows))"
   ]
  },
  {
   "cell_type": "code",
   "execution_count": 21,
   "id": "ef4195a6-18d2-427c-8582-b471ccbac368",
   "metadata": {},
   "outputs": [
    {
     "data": {
      "text/plain": [
       "RandomForestClassifier()"
      ]
     },
     "execution_count": 21,
     "metadata": {},
     "output_type": "execute_result"
    }
   ],
   "source": [
    "from sklearn.ensemble import RandomForestClassifier\n",
    "rf = RandomForestClassifier()\n",
    "TARGET = 'TARGET_FLAG'\n",
    "X_train,y_train = pretrain[pretrain.columns.drop(TARGET)], pretrain[TARGET]\n",
    "rf.fit(X_train, y_train)"
   ]
  },
  {
   "cell_type": "code",
   "execution_count": 22,
   "id": "0ca0ca86-f596-4dbf-808c-6c4cc0c04d32",
   "metadata": {},
   "outputs": [
    {
     "data": {
      "text/plain": [
       "0    1824\n",
       "1     317\n",
       "dtype: int64"
      ]
     },
     "execution_count": 22,
     "metadata": {},
     "output_type": "execute_result"
    }
   ],
   "source": [
    "pd.Series(rf.predict(pretest)).value_counts()"
   ]
  },
  {
   "cell_type": "code",
   "execution_count": 23,
   "id": "27613688-0bad-41ab-ae5e-f4b1749113ee",
   "metadata": {},
   "outputs": [
    {
     "data": {
      "text/plain": [
       "0    6008\n",
       "1    2153\n",
       "dtype: int64"
      ]
     },
     "execution_count": 23,
     "metadata": {},
     "output_type": "execute_result"
    }
   ],
   "source": [
    "pd.Series(rf.predict(pretrain[pretrain.columns.drop(TARGET)])).value_counts()"
   ]
  },
  {
   "cell_type": "markdown",
   "id": "3ca7ea6f-81f7-4506-b289-b88acda3c7d1",
   "metadata": {},
   "source": [
    "### TRAIN WITH bQ ML"
   ]
  },
  {
   "cell_type": "code",
   "execution_count": 73,
   "id": "17a6870b-e85a-4547-a2dd-1017798b13d7",
   "metadata": {},
   "outputs": [],
   "source": [
    "import random\n",
    "import string\n",
    "\n",
    "\n",
    "# Generate a uuid of a specifed length(default=8)\n",
    "def generate_uuid(length: int = 8) -> str:\n",
    "    return \"\".join(random.choices(string.ascii_lowercase + string.digits, k=length))\n",
    "\n",
    "\n",
    "UUID = generate_uuid()\n",
    "     "
   ]
  },
  {
   "cell_type": "code",
   "execution_count": 74,
   "id": "c52331db-df09-4f1a-8f06-c0e8ec2542a4",
   "metadata": {},
   "outputs": [
    {
     "name": "stdout",
     "output_type": "stream",
     "text": [
      "autoinsurance_randomforestoo2tk3mu\n"
     ]
    }
   ],
   "source": [
    "MODEL_ID = 'autoinsurance_randomforest' + UUID\n",
    "print(MODEL_ID)"
   ]
  },
  {
   "cell_type": "code",
   "execution_count": 107,
   "id": "854656b7-4b9c-4096-b45d-4bf2ed8096e1",
   "metadata": {},
   "outputs": [],
   "source": [
    "modelq= f'''CREATE MODEL `{PROJECT_ID}.{DATASET_ID}.{MODEL_ID}`\n",
    "OPTIONS(MODEL_TYPE='RANDOM_FOREST_CLASSIFIER',\n",
    "        NUM_PARALLEL_TREE = 50,\n",
    "        TREE_METHOD = 'HIST',\n",
    "        EARLY_STOP = FALSE,\n",
    "        SUBSAMPLE = 0.85,\n",
    "        INPUT_LABEL_COLS = ['{TARGET}'],\n",
    "        MODEL_REGISTRY = 'VERTEX_AI'\n",
    "        )        \n",
    "AS SELECT * FROM `{PROJECT_ID}.{DATASET_ID}.{TABLE_ID}`;'''"
   ]
  },
  {
   "cell_type": "code",
   "execution_count": 108,
   "id": "e13c12c0-3b1d-4934-9980-474ad95b92e0",
   "metadata": {},
   "outputs": [
    {
     "name": "stdout",
     "output_type": "stream",
     "text": [
      "CREATE MODEL `sandbox-mvp-001.gcp_workshop.autoinsurance_randomforestoo2tk3mu`\n",
      "OPTIONS(MODEL_TYPE='RANDOM_FOREST_CLASSIFIER',\n",
      "        NUM_PARALLEL_TREE = 50,\n",
      "        TREE_METHOD = 'HIST',\n",
      "        EARLY_STOP = FALSE,\n",
      "        SUBSAMPLE = 0.85,\n",
      "        INPUT_LABEL_COLS = ['TARGET_FLAG'],\n",
      "        MODEL_REGISTRY = 'VERTEX_AI'\n",
      "        )        \n",
      "AS SELECT * FROM `sandbox-mvp-001.gcp_workshop.train_clean`;\n"
     ]
    }
   ],
   "source": [
    "print(modelq)"
   ]
  },
  {
   "cell_type": "code",
   "execution_count": 110,
   "id": "f5c95e35-9b79-46ba-9614-a7c1b7f107ba",
   "metadata": {},
   "outputs": [
    {
     "name": "stdout",
     "output_type": "stream",
     "text": [
      "Job state: RUNNING\n",
      "Job Error:None\n"
     ]
    }
   ],
   "source": [
    "job = client.query(modelq)\n",
    "print(f\"Job state: {job.state}\\nJob Error:{job.errors}\")     "
   ]
  },
  {
   "cell_type": "code",
   "execution_count": 111,
   "id": "dbebc6e3-5fdc-47fc-82c9-a9bf9f9e2a11",
   "metadata": {},
   "outputs": [
    {
     "name": "stdout",
     "output_type": "stream",
     "text": [
      "DONE\n"
     ]
    }
   ],
   "source": [
    "job.result()\n",
    "print(job.state)"
   ]
  },
  {
   "cell_type": "markdown",
   "id": "b6672a31-841c-41c2-8af2-cca36baf73d5",
   "metadata": {},
   "source": [
    "## read model from model registry"
   ]
  },
  {
   "cell_type": "code",
   "execution_count": 118,
   "id": "7730b683-a196-42dc-a2cc-05f1e5f37f3c",
   "metadata": {},
   "outputs": [],
   "source": [
    "from google.cloud import aiplatform\n",
    "model = aiplatform.Model(MODEL_ID,\n",
    "                          project=PROJECT_ID, \n",
    "                          location = REGION)"
   ]
  },
  {
   "cell_type": "markdown",
   "id": "3c5b6a78-a99c-455e-ae5b-3e186b5b7e4f",
   "metadata": {},
   "source": [
    "## endpoint creation"
   ]
  },
  {
   "cell_type": "code",
   "execution_count": 252,
   "id": "352a1b4f-7c83-4ec7-929d-d1823058b9f6",
   "metadata": {},
   "outputs": [
    {
     "data": {
      "text/plain": [
       "'europe-west4'"
      ]
     },
     "execution_count": 252,
     "metadata": {},
     "output_type": "execute_result"
    }
   ],
   "source": [
    "REGION"
   ]
  },
  {
   "cell_type": "code",
   "execution_count": 253,
   "id": "15e0d494-44d5-4da8-982a-fffb94bdc415",
   "metadata": {},
   "outputs": [
    {
     "name": "stdout",
     "output_type": "stream",
     "text": [
      "Creating Endpoint\n"
     ]
    },
    {
     "name": "stderr",
     "output_type": "stream",
     "text": [
      "INFO:google.cloud.aiplatform.models:Creating Endpoint\n"
     ]
    },
    {
     "name": "stdout",
     "output_type": "stream",
     "text": [
      "Create Endpoint backing LRO: projects/736100380721/locations/europe-west4/endpoints/451881686829891584/operations/6339737316512235520\n"
     ]
    },
    {
     "name": "stderr",
     "output_type": "stream",
     "text": [
      "INFO:google.cloud.aiplatform.models:Create Endpoint backing LRO: projects/736100380721/locations/europe-west4/endpoints/451881686829891584/operations/6339737316512235520\n"
     ]
    },
    {
     "name": "stdout",
     "output_type": "stream",
     "text": [
      "Endpoint created. Resource name: projects/736100380721/locations/europe-west4/endpoints/451881686829891584\n"
     ]
    },
    {
     "name": "stderr",
     "output_type": "stream",
     "text": [
      "INFO:google.cloud.aiplatform.models:Endpoint created. Resource name: projects/736100380721/locations/europe-west4/endpoints/451881686829891584\n"
     ]
    },
    {
     "name": "stdout",
     "output_type": "stream",
     "text": [
      "To use this Endpoint in another session:\n"
     ]
    },
    {
     "name": "stderr",
     "output_type": "stream",
     "text": [
      "INFO:google.cloud.aiplatform.models:To use this Endpoint in another session:\n"
     ]
    },
    {
     "name": "stdout",
     "output_type": "stream",
     "text": [
      "endpoint = aiplatform.Endpoint('projects/736100380721/locations/europe-west4/endpoints/451881686829891584')\n"
     ]
    },
    {
     "name": "stderr",
     "output_type": "stream",
     "text": [
      "INFO:google.cloud.aiplatform.models:endpoint = aiplatform.Endpoint('projects/736100380721/locations/europe-west4/endpoints/451881686829891584')\n"
     ]
    },
    {
     "name": "stdout",
     "output_type": "stream",
     "text": [
      "autoinsurance_randomforestoo2tk3muoo2tk3mu\n",
      "projects/736100380721/locations/europe-west4/endpoints/451881686829891584\n"
     ]
    }
   ],
   "source": [
    "ENDPOINT_DISPLAY_NAME = MODEL_ID + UUID\n",
    "\n",
    "endpoint = aiplatform.Endpoint.create(\n",
    "    display_name=ENDPOINT_DISPLAY_NAME,\n",
    "    project=PROJECT_ID,\n",
    "    location=REGION,\n",
    ")\n",
    "\n",
    "print(endpoint.display_name)\n",
    "print(endpoint.resource_name)"
   ]
  },
  {
   "cell_type": "markdown",
   "id": "b79b625a-038b-4c64-ac7d-efdc2e889d75",
   "metadata": {},
   "source": [
    "## model deploy to endpoint"
   ]
  },
  {
   "cell_type": "code",
   "execution_count": 144,
   "id": "8a5c7cdb-d121-4283-8e9d-7799ab8086bc",
   "metadata": {},
   "outputs": [
    {
     "data": {
      "text/plain": [
       "'autoinsurance_randomforestoo2tk3mu'"
      ]
     },
     "execution_count": 144,
     "metadata": {},
     "output_type": "execute_result"
    }
   ],
   "source": [
    "MODEL_ID"
   ]
  },
  {
   "cell_type": "code",
   "execution_count": 121,
   "id": "6b51767c-5fb5-4720-a3f1-5f1d3bffff1a",
   "metadata": {},
   "outputs": [
    {
     "name": "stdout",
     "output_type": "stream",
     "text": [
      "Deploying model to Endpoint : projects/736100380721/locations/europe-west4/endpoints/353928394934583296\n"
     ]
    },
    {
     "name": "stderr",
     "output_type": "stream",
     "text": [
      "INFO:google.cloud.aiplatform.models:Deploying model to Endpoint : projects/736100380721/locations/europe-west4/endpoints/353928394934583296\n"
     ]
    },
    {
     "name": "stdout",
     "output_type": "stream",
     "text": [
      "Using default machine_type: n1-standard-2\n"
     ]
    },
    {
     "name": "stderr",
     "output_type": "stream",
     "text": [
      "INFO:google.cloud.aiplatform.models:Using default machine_type: n1-standard-2\n"
     ]
    },
    {
     "name": "stdout",
     "output_type": "stream",
     "text": [
      "Deploy Endpoint model backing LRO: projects/736100380721/locations/europe-west4/endpoints/353928394934583296/operations/5488275511962501120\n"
     ]
    },
    {
     "name": "stderr",
     "output_type": "stream",
     "text": [
      "INFO:google.cloud.aiplatform.models:Deploy Endpoint model backing LRO: projects/736100380721/locations/europe-west4/endpoints/353928394934583296/operations/5488275511962501120\n"
     ]
    },
    {
     "name": "stdout",
     "output_type": "stream",
     "text": [
      "Endpoint model deployed. Resource name: projects/736100380721/locations/europe-west4/endpoints/353928394934583296\n"
     ]
    },
    {
     "name": "stderr",
     "output_type": "stream",
     "text": [
      "INFO:google.cloud.aiplatform.models:Endpoint model deployed. Resource name: projects/736100380721/locations/europe-west4/endpoints/353928394934583296\n"
     ]
    },
    {
     "name": "stdout",
     "output_type": "stream",
     "text": [
      "autoinsurance_randomforestoo2tk3mu\n",
      "projects/736100380721/locations/europe-west4/models/autoinsurance_randomforestoo2tk3mu\n"
     ]
    }
   ],
   "source": [
    "DEPLOYED_NAME = MODEL_ID\n",
    "\n",
    "model.deploy(endpoint=endpoint, deployed_model_display_name=DEPLOYED_NAME)\n",
    "\n",
    "print(model.display_name)\n",
    "print(model.resource_name)"
   ]
  },
  {
   "cell_type": "markdown",
   "id": "2c41f65c-c7e5-4ffe-877a-4b21ff3a0e82",
   "metadata": {},
   "source": [
    "## use the endpoint for online predictions"
   ]
  },
  {
   "cell_type": "code",
   "execution_count": 275,
   "id": "bb0adf1b-fe85-46d6-bd18-8c2db14da1ea",
   "metadata": {},
   "outputs": [
    {
     "data": {
      "text/plain": [
       "('sandbox-mvp-001', 'europe-west4')"
      ]
     },
     "execution_count": 275,
     "metadata": {},
     "output_type": "execute_result"
    }
   ],
   "source": [
    "PROJECT_ID,REGION"
   ]
  },
  {
   "cell_type": "code",
   "execution_count": 315,
   "id": "0629ec4b-363d-42a9-8792-362cd659a307",
   "metadata": {},
   "outputs": [],
   "source": [
    "display = 'autoinsurance_randomforestoo2tk3muoo2tk3mu'\n",
    "endpoint_list = aiplatform.Endpoint.list(filter = f'''display_name = \"{display}\"'''\n",
    "                                     ,project=PROJECT_ID,\n",
    "                                     location=REGION,)\n",
    "# endpoint.gca_resource"
   ]
  },
  {
   "cell_type": "code",
   "execution_count": 322,
   "id": "4b1bcabe-874e-4a78-88aa-4eb6870853f9",
   "metadata": {},
   "outputs": [
    {
     "data": {
      "text/plain": [
       "[<google.cloud.aiplatform.models.Endpoint object at 0x7fa0355dac50> \n",
       " resource name: projects/736100380721/locations/europe-west4/endpoints/353928394934583296]"
      ]
     },
     "execution_count": 322,
     "metadata": {},
     "output_type": "execute_result"
    }
   ],
   "source": [
    "endpoint_list"
   ]
  },
  {
   "cell_type": "code",
   "execution_count": 318,
   "id": "51078880-6437-4356-a3b4-50d8a16f2f20",
   "metadata": {},
   "outputs": [],
   "source": [
    "project = '736100380721'\n",
    "location = 'europe-west4'\n",
    "endpoint_id = '353928394934583296'\n",
    "endpoint = aiplatform.Endpoint(\n",
    "    endpoint_name=endpoint_id,\n",
    "    project=project,\n",
    "    location=location)"
   ]
  },
  {
   "cell_type": "code",
   "execution_count": 320,
   "id": "68a5c0dd-492a-4fb1-9364-98f76aca36f9",
   "metadata": {},
   "outputs": [],
   "source": [
    "path = 'gs://gcp-workshop-vertex-pipeline/pipeline_root/736100380721/pipeline-predict-workshop-20230228135915/preprocess_1193498981229920256/dataset_processed.csv'"
   ]
  },
  {
   "cell_type": "code",
   "execution_count": 321,
   "id": "db2d61e2-9c99-4a58-8e89-2a94997009c9",
   "metadata": {},
   "outputs": [],
   "source": [
    "dfpipe = pd.read_csv(path)\n",
    "instances = dfpipe.to_dict(orient='records')\n",
    "prediction = endpoint.predict(instances)\n",
    "dfpipe['prediction'] = pd.DataFrame(prediction.predictions)['predicted_TARGET_FLAG']"
   ]
  },
  {
   "cell_type": "markdown",
   "id": "c51e43be-0704-4aef-a109-f31620feac7f",
   "metadata": {},
   "source": [
    "## bq predictions"
   ]
  },
  {
   "cell_type": "code",
   "execution_count": 133,
   "id": "6623dd14-4578-4330-a6a6-ca8034762f69",
   "metadata": {},
   "outputs": [],
   "source": [
    "sql_ml_predict = f\"\"\"SELECT * FROM ML.PREDICT(MODEL `{PROJECT_ID}.{DATASET_ID}.{MODEL_ID}`, \n",
    "(SELECT\n",
    "      *\n",
    "    FROM\n",
    "      `{PROJECT_ID}.{DATASET_ID}.{TABLE_ID}` LIMIT 10))\"\"\"\n",
    "\n",
    "job = client.query(sql_ml_predict)\n",
    "prediction_result = job.result().to_arrow().to_pandas()"
   ]
  },
  {
   "cell_type": "code",
   "execution_count": 134,
   "id": "8877e81b-f5cc-4cad-97fa-b2cdd0cc6c2a",
   "metadata": {},
   "outputs": [
    {
     "data": {
      "text/html": [
       "<div>\n",
       "<style scoped>\n",
       "    .dataframe tbody tr th:only-of-type {\n",
       "        vertical-align: middle;\n",
       "    }\n",
       "\n",
       "    .dataframe tbody tr th {\n",
       "        vertical-align: top;\n",
       "    }\n",
       "\n",
       "    .dataframe thead th {\n",
       "        text-align: right;\n",
       "    }\n",
       "</style>\n",
       "<table border=\"1\" class=\"dataframe\">\n",
       "  <thead>\n",
       "    <tr style=\"text-align: right;\">\n",
       "      <th></th>\n",
       "      <th>predicted_TARGET_FLAG</th>\n",
       "      <th>predicted_TARGET_FLAG_probs</th>\n",
       "      <th>TARGET_FLAG</th>\n",
       "      <th>KIDSDRIV</th>\n",
       "      <th>AGE</th>\n",
       "      <th>HOMEKIDS</th>\n",
       "      <th>YOJ</th>\n",
       "      <th>INCOME</th>\n",
       "      <th>PARENT1</th>\n",
       "      <th>HOME_VAL</th>\n",
       "      <th>...</th>\n",
       "      <th>MANAGER</th>\n",
       "      <th>PROFESSIONAL</th>\n",
       "      <th>STUDENT</th>\n",
       "      <th>BLUE_COLLAR</th>\n",
       "      <th>MINIVAN</th>\n",
       "      <th>PANEL_TRUCK</th>\n",
       "      <th>PICKUP</th>\n",
       "      <th>SPORTS_CAR</th>\n",
       "      <th>VAN</th>\n",
       "      <th>SUV</th>\n",
       "    </tr>\n",
       "  </thead>\n",
       "  <tbody>\n",
       "    <tr>\n",
       "      <th>0</th>\n",
       "      <td>0</td>\n",
       "      <td>[{'label': 1, 'prob': 0.223684623837471}, {'la...</td>\n",
       "      <td>0</td>\n",
       "      <td>-0.334421</td>\n",
       "      <td>-0.555266</td>\n",
       "      <td>2.937290</td>\n",
       "      <td>1.099825</td>\n",
       "      <td>-0.290755</td>\n",
       "      <td>1</td>\n",
       "      <td>0.241317</td>\n",
       "      <td>...</td>\n",
       "      <td>0</td>\n",
       "      <td>0</td>\n",
       "      <td>0</td>\n",
       "      <td>0</td>\n",
       "      <td>1</td>\n",
       "      <td>0</td>\n",
       "      <td>0</td>\n",
       "      <td>0</td>\n",
       "      <td>0</td>\n",
       "      <td>0</td>\n",
       "    </tr>\n",
       "    <tr>\n",
       "      <th>1</th>\n",
       "      <td>1</td>\n",
       "      <td>[{'label': 1, 'prob': 0.616367518901825}, {'la...</td>\n",
       "      <td>1</td>\n",
       "      <td>-0.334421</td>\n",
       "      <td>-0.555266</td>\n",
       "      <td>1.145585</td>\n",
       "      <td>0.611091</td>\n",
       "      <td>-0.238831</td>\n",
       "      <td>0</td>\n",
       "      <td>0.301960</td>\n",
       "      <td>...</td>\n",
       "      <td>0</td>\n",
       "      <td>0</td>\n",
       "      <td>0</td>\n",
       "      <td>1</td>\n",
       "      <td>0</td>\n",
       "      <td>0</td>\n",
       "      <td>0</td>\n",
       "      <td>0</td>\n",
       "      <td>1</td>\n",
       "      <td>0</td>\n",
       "    </tr>\n",
       "    <tr>\n",
       "      <th>2</th>\n",
       "      <td>0</td>\n",
       "      <td>[{'label': 1, 'prob': 0.19636750221252441}, {'...</td>\n",
       "      <td>0</td>\n",
       "      <td>-0.334421</td>\n",
       "      <td>-0.555266</td>\n",
       "      <td>2.041438</td>\n",
       "      <td>1.588559</td>\n",
       "      <td>0.720437</td>\n",
       "      <td>0</td>\n",
       "      <td>0.983947</td>\n",
       "      <td>...</td>\n",
       "      <td>1</td>\n",
       "      <td>0</td>\n",
       "      <td>0</td>\n",
       "      <td>0</td>\n",
       "      <td>1</td>\n",
       "      <td>0</td>\n",
       "      <td>0</td>\n",
       "      <td>0</td>\n",
       "      <td>0</td>\n",
       "      <td>0</td>\n",
       "    </tr>\n",
       "    <tr>\n",
       "      <th>3</th>\n",
       "      <td>1</td>\n",
       "      <td>[{'label': 1, 'prob': 0.685663104057312}, {'la...</td>\n",
       "      <td>1</td>\n",
       "      <td>-0.334421</td>\n",
       "      <td>-0.555266</td>\n",
       "      <td>0.249732</td>\n",
       "      <td>0.855458</td>\n",
       "      <td>-1.238776</td>\n",
       "      <td>0</td>\n",
       "      <td>-1.199449</td>\n",
       "      <td>...</td>\n",
       "      <td>0</td>\n",
       "      <td>0</td>\n",
       "      <td>1</td>\n",
       "      <td>0</td>\n",
       "      <td>1</td>\n",
       "      <td>0</td>\n",
       "      <td>0</td>\n",
       "      <td>0</td>\n",
       "      <td>0</td>\n",
       "      <td>0</td>\n",
       "    </tr>\n",
       "    <tr>\n",
       "      <th>4</th>\n",
       "      <td>0</td>\n",
       "      <td>[{'label': 1, 'prob': 0.2368536740541458}, {'l...</td>\n",
       "      <td>0</td>\n",
       "      <td>3.575626</td>\n",
       "      <td>-0.555266</td>\n",
       "      <td>1.145585</td>\n",
       "      <td>0.122358</td>\n",
       "      <td>0.660336</td>\n",
       "      <td>0</td>\n",
       "      <td>0.855287</td>\n",
       "      <td>...</td>\n",
       "      <td>0</td>\n",
       "      <td>0</td>\n",
       "      <td>0</td>\n",
       "      <td>1</td>\n",
       "      <td>0</td>\n",
       "      <td>0</td>\n",
       "      <td>1</td>\n",
       "      <td>0</td>\n",
       "      <td>0</td>\n",
       "      <td>0</td>\n",
       "    </tr>\n",
       "  </tbody>\n",
       "</table>\n",
       "<p>5 rows × 42 columns</p>\n",
       "</div>"
      ],
      "text/plain": [
       "   predicted_TARGET_FLAG                        predicted_TARGET_FLAG_probs  \\\n",
       "0                      0  [{'label': 1, 'prob': 0.223684623837471}, {'la...   \n",
       "1                      1  [{'label': 1, 'prob': 0.616367518901825}, {'la...   \n",
       "2                      0  [{'label': 1, 'prob': 0.19636750221252441}, {'...   \n",
       "3                      1  [{'label': 1, 'prob': 0.685663104057312}, {'la...   \n",
       "4                      0  [{'label': 1, 'prob': 0.2368536740541458}, {'l...   \n",
       "\n",
       "   TARGET_FLAG  KIDSDRIV       AGE  HOMEKIDS       YOJ    INCOME  PARENT1  \\\n",
       "0            0 -0.334421 -0.555266  2.937290  1.099825 -0.290755        1   \n",
       "1            1 -0.334421 -0.555266  1.145585  0.611091 -0.238831        0   \n",
       "2            0 -0.334421 -0.555266  2.041438  1.588559  0.720437        0   \n",
       "3            1 -0.334421 -0.555266  0.249732  0.855458 -1.238776        0   \n",
       "4            0  3.575626 -0.555266  1.145585  0.122358  0.660336        0   \n",
       "\n",
       "   HOME_VAL  ...  MANAGER  PROFESSIONAL  STUDENT  BLUE_COLLAR  MINIVAN  \\\n",
       "0  0.241317  ...        0             0        0            0        1   \n",
       "1  0.301960  ...        0             0        0            1        0   \n",
       "2  0.983947  ...        1             0        0            0        1   \n",
       "3 -1.199449  ...        0             0        1            0        1   \n",
       "4  0.855287  ...        0             0        0            1        0   \n",
       "\n",
       "   PANEL_TRUCK  PICKUP  SPORTS_CAR  VAN  SUV  \n",
       "0            0       0           0    0    0  \n",
       "1            0       0           0    1    0  \n",
       "2            0       0           0    0    0  \n",
       "3            0       0           0    0    0  \n",
       "4            0       1           0    0    0  \n",
       "\n",
       "[5 rows x 42 columns]"
      ]
     },
     "execution_count": 134,
     "metadata": {},
     "output_type": "execute_result"
    }
   ],
   "source": [
    "prediction_result.head()"
   ]
  },
  {
   "cell_type": "markdown",
   "id": "6283ff91-d1c1-450a-96df-0a95e7004a0c",
   "metadata": {},
   "source": [
    "## bQ evaluation"
   ]
  },
  {
   "cell_type": "code",
   "execution_count": 139,
   "id": "4eb3af48-2573-441a-bbcf-8893bb77b3a4",
   "metadata": {},
   "outputs": [],
   "source": [
    "INPUT_EVAL = 'train_clean'\n",
    "eval_q = f'''SELECT\n",
    "  *\n",
    "FROM\n",
    "  ML.EVALUATE (MODEL `{PROJECT_ID}.{DATASET_ID}.{MODEL_ID}`,\n",
    "    (\n",
    "    SELECT\n",
    "      *\n",
    "    FROM\n",
    "      `{PROJECT_ID}.{DATASET_ID}.{INPUT_EVAL}`\n",
    "    )\n",
    "  )'''"
   ]
  },
  {
   "cell_type": "code",
   "execution_count": 141,
   "id": "b2ba2a51-214e-4b0a-995e-7f6d575ff3e0",
   "metadata": {},
   "outputs": [
    {
     "data": {
      "text/html": [
       "<div>\n",
       "<style scoped>\n",
       "    .dataframe tbody tr th:only-of-type {\n",
       "        vertical-align: middle;\n",
       "    }\n",
       "\n",
       "    .dataframe tbody tr th {\n",
       "        vertical-align: top;\n",
       "    }\n",
       "\n",
       "    .dataframe thead th {\n",
       "        text-align: right;\n",
       "    }\n",
       "</style>\n",
       "<table border=\"1\" class=\"dataframe\">\n",
       "  <thead>\n",
       "    <tr style=\"text-align: right;\">\n",
       "      <th></th>\n",
       "      <th>precision</th>\n",
       "      <th>recall</th>\n",
       "      <th>accuracy</th>\n",
       "      <th>f1_score</th>\n",
       "      <th>log_loss</th>\n",
       "      <th>roc_auc</th>\n",
       "    </tr>\n",
       "  </thead>\n",
       "  <tbody>\n",
       "    <tr>\n",
       "      <th>0</th>\n",
       "      <td>0.940949</td>\n",
       "      <td>0.791918</td>\n",
       "      <td>0.931994</td>\n",
       "      <td>0.860025</td>\n",
       "      <td>0.308312</td>\n",
       "      <td>0.962868</td>\n",
       "    </tr>\n",
       "  </tbody>\n",
       "</table>\n",
       "</div>"
      ],
      "text/plain": [
       "   precision    recall  accuracy  f1_score  log_loss   roc_auc\n",
       "0   0.940949  0.791918  0.931994  0.860025  0.308312  0.962868"
      ]
     },
     "execution_count": 141,
     "metadata": {},
     "output_type": "execute_result"
    }
   ],
   "source": [
    "client.query(eval_q).to_dataframe()"
   ]
  }
 ],
 "metadata": {
  "environment": {
   "kernel": "python3",
   "name": "common-cpu.m103",
   "type": "gcloud",
   "uri": "gcr.io/deeplearning-platform-release/base-cpu:m103"
  },
  "kernelspec": {
   "display_name": "Python 3",
   "language": "python",
   "name": "python3"
  },
  "language_info": {
   "codemirror_mode": {
    "name": "ipython",
    "version": 3
   },
   "file_extension": ".py",
   "mimetype": "text/x-python",
   "name": "python",
   "nbconvert_exporter": "python",
   "pygments_lexer": "ipython3",
   "version": "3.7.12"
  }
 },
 "nbformat": 4,
 "nbformat_minor": 5
}
